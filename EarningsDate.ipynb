{
  "nbformat": 4,
  "nbformat_minor": 0,
  "metadata": {
    "colab": {
      "name": "Finance.ipynb",
      "provenance": [],
      "collapsed_sections": [],
      "authorship_tag": "ABX9TyOS1hQav7MhRxYjldVf7Mnt",
      "include_colab_link": true
    },
    "kernelspec": {
      "name": "python3",
      "display_name": "Python 3"
    }
  },
  "cells": [
    {
      "cell_type": "markdown",
      "metadata": {
        "id": "view-in-github",
        "colab_type": "text"
      },
      "source": [
        "<a href=\"https://colab.research.google.com/github/takyaC/FinanceEaringsDate/blob/main/EarningsDate.ipynb\" target=\"_parent\"><img src=\"https://colab.research.google.com/assets/colab-badge.svg\" alt=\"Open In Colab\"/></a>"
      ]
    },
    {
      "cell_type": "code",
      "metadata": {
        "colab": {
          "base_uri": "https://localhost:8080/"
        },
        "id": "k7-v_f-3Zfj_",
        "outputId": "d8184981-9e31-49e6-dab7-251076ef9fe8"
      },
      "source": [
        "pip install yahoo_earnings_calendar"
      ],
      "execution_count": 4,
      "outputs": [
        {
          "output_type": "stream",
          "text": [
            "Collecting yahoo_earnings_calendar\n",
            "  Downloading https://files.pythonhosted.org/packages/8e/c5/56a980977341b9166284007b2d2f81b6cbdfb643aec71e46994c6d014bf1/yahoo_earnings_calendar-0.6.0-py3-none-any.whl\n",
            "Requirement already satisfied: requests in /usr/local/lib/python3.6/dist-packages (from yahoo_earnings_calendar) (2.23.0)\n",
            "Requirement already satisfied: urllib3!=1.25.0,!=1.25.1,<1.26,>=1.21.1 in /usr/local/lib/python3.6/dist-packages (from requests->yahoo_earnings_calendar) (1.24.3)\n",
            "Requirement already satisfied: chardet<4,>=3.0.2 in /usr/local/lib/python3.6/dist-packages (from requests->yahoo_earnings_calendar) (3.0.4)\n",
            "Requirement already satisfied: idna<3,>=2.5 in /usr/local/lib/python3.6/dist-packages (from requests->yahoo_earnings_calendar) (2.10)\n",
            "Requirement already satisfied: certifi>=2017.4.17 in /usr/local/lib/python3.6/dist-packages (from requests->yahoo_earnings_calendar) (2020.12.5)\n",
            "Installing collected packages: yahoo-earnings-calendar\n",
            "Successfully installed yahoo-earnings-calendar-0.6.0\n"
          ],
          "name": "stdout"
        }
      ]
    },
    {
      "cell_type": "code",
      "metadata": {
        "id": "uZwDIz5wt3UO",
        "outputId": "a4cd51be-f814-4983-81f3-161e908597c6",
        "colab": {
          "base_uri": "https://localhost:8080/"
        }
      },
      "source": [
        "pip install pandas"
      ],
      "execution_count": 5,
      "outputs": [
        {
          "output_type": "stream",
          "text": [
            "Requirement already satisfied: pandas in /usr/local/lib/python3.6/dist-packages (1.1.5)\n",
            "Requirement already satisfied: numpy>=1.15.4 in /usr/local/lib/python3.6/dist-packages (from pandas) (1.19.4)\n",
            "Requirement already satisfied: pytz>=2017.2 in /usr/local/lib/python3.6/dist-packages (from pandas) (2018.9)\n",
            "Requirement already satisfied: python-dateutil>=2.7.3 in /usr/local/lib/python3.6/dist-packages (from pandas) (2.8.1)\n",
            "Requirement already satisfied: six>=1.5 in /usr/local/lib/python3.6/dist-packages (from python-dateutil>=2.7.3->pandas) (1.15.0)\n"
          ],
          "name": "stdout"
        }
      ]
    },
    {
      "cell_type": "code",
      "metadata": {
        "id": "70kU4ITYZ5L4"
      },
      "source": [
        "from datetime import datetime\n",
        "from yahoo_earnings_calendar import YahooEarningsCalendar\n",
        "import pandas"
      ],
      "execution_count": 6,
      "outputs": []
    },
    {
      "cell_type": "code",
      "metadata": {
        "id": "-r6FL3dBZYPy"
      },
      "source": [
        "tickers = [\n",
        "           # it\n",
        "           \"WORK\", \"AAPL\", \"MSFT\", \"TSLA\", \"AMZN\", \"GOOGL\", \"ORCL\", \"ZM\",  \n",
        "           # vaccine\n",
        "           \"MRNA\", \"EBS\", \"BNTX\", \n",
        "           # clean\n",
        "           \"PLUG\", \"WKHS\", \n",
        "           # airline\n",
        "           \"DAL\", \n",
        "           # ipo\n",
        "           \"U\", \"RPRX\", \n",
        "           # other\n",
        "           \"DOCU\", \"PTON\", \"CRWD\",\n",
        "           \"RKT\", \"ZI\", \"ROOT\", \"SBLK\", \"IAC\", \"FUTU\", \"ROKU\", \"SQ\", \n",
        "           # value\n",
        "           \"BMY\", \"ANTM\"\n",
        "           ]\n"
      ],
      "execution_count": 12,
      "outputs": []
    },
    {
      "cell_type": "markdown",
      "metadata": {
        "id": "aUIC5KsfrVev"
      },
      "source": [
        ""
      ]
    },
    {
      "cell_type": "code",
      "metadata": {
        "colab": {
          "base_uri": "https://localhost:8080/",
          "height": 948
        },
        "id": "DwjRFk9NdAkJ",
        "outputId": "bc15a755-1325-4bc2-9a04-acb4f44fb4e5"
      },
      "source": [
        "data_of_ticker = []\n",
        "yec = YahooEarningsCalendar()\n",
        "\n",
        "for ticker in tickers:\n",
        "    try:\n",
        "      ts = yec.get_next_earnings_date(ticker)\n",
        "      data_of_ticker.append([ticker, datetime.utcfromtimestamp(ts).strftime('%Y/%m/%d')])\n",
        "    except:\n",
        "      data_of_ticker.append([ticker, \"-\"])\n",
        "\n",
        "df = pandas.DataFrame(data_of_ticker, columns=[\"銘柄\", \"決算日\"])\n",
        "df.sort_values(by=['決算日'])"
      ],
      "execution_count": 13,
      "outputs": [
        {
          "output_type": "execute_result",
          "data": {
            "text/html": [
              "<div>\n",
              "<style scoped>\n",
              "    .dataframe tbody tr th:only-of-type {\n",
              "        vertical-align: middle;\n",
              "    }\n",
              "\n",
              "    .dataframe tbody tr th {\n",
              "        vertical-align: top;\n",
              "    }\n",
              "\n",
              "    .dataframe thead th {\n",
              "        text-align: right;\n",
              "    }\n",
              "</style>\n",
              "<table border=\"1\" class=\"dataframe\">\n",
              "  <thead>\n",
              "    <tr style=\"text-align: right;\">\n",
              "      <th></th>\n",
              "      <th>銘柄</th>\n",
              "      <th>決算日</th>\n",
              "    </tr>\n",
              "  </thead>\n",
              "  <tbody>\n",
              "    <tr>\n",
              "      <th>21</th>\n",
              "      <td>ROOT</td>\n",
              "      <td>-</td>\n",
              "    </tr>\n",
              "    <tr>\n",
              "      <th>24</th>\n",
              "      <td>FUTU</td>\n",
              "      <td>2020/05/14</td>\n",
              "    </tr>\n",
              "    <tr>\n",
              "      <th>23</th>\n",
              "      <td>IAC</td>\n",
              "      <td>2020/11/06</td>\n",
              "    </tr>\n",
              "    <tr>\n",
              "      <th>20</th>\n",
              "      <td>ZI</td>\n",
              "      <td>2020/11/09</td>\n",
              "    </tr>\n",
              "    <tr>\n",
              "      <th>12</th>\n",
              "      <td>WKHS</td>\n",
              "      <td>2020/11/09</td>\n",
              "    </tr>\n",
              "    <tr>\n",
              "      <th>19</th>\n",
              "      <td>RKT</td>\n",
              "      <td>2020/11/10</td>\n",
              "    </tr>\n",
              "    <tr>\n",
              "      <th>10</th>\n",
              "      <td>BNTX</td>\n",
              "      <td>2020/11/10</td>\n",
              "    </tr>\n",
              "    <tr>\n",
              "      <th>15</th>\n",
              "      <td>RPRX</td>\n",
              "      <td>2020/11/11</td>\n",
              "    </tr>\n",
              "    <tr>\n",
              "      <th>14</th>\n",
              "      <td>U</td>\n",
              "      <td>2020/11/12</td>\n",
              "    </tr>\n",
              "    <tr>\n",
              "      <th>13</th>\n",
              "      <td>DAL</td>\n",
              "      <td>2021/01/14</td>\n",
              "    </tr>\n",
              "    <tr>\n",
              "      <th>1</th>\n",
              "      <td>AAPL</td>\n",
              "      <td>2021/01/26</td>\n",
              "    </tr>\n",
              "    <tr>\n",
              "      <th>28</th>\n",
              "      <td>ANTM</td>\n",
              "      <td>2021/01/27</td>\n",
              "    </tr>\n",
              "    <tr>\n",
              "      <th>2</th>\n",
              "      <td>MSFT</td>\n",
              "      <td>2021/01/27</td>\n",
              "    </tr>\n",
              "    <tr>\n",
              "      <th>3</th>\n",
              "      <td>TSLA</td>\n",
              "      <td>2021/01/27</td>\n",
              "    </tr>\n",
              "    <tr>\n",
              "      <th>4</th>\n",
              "      <td>AMZN</td>\n",
              "      <td>2021/01/28</td>\n",
              "    </tr>\n",
              "    <tr>\n",
              "      <th>5</th>\n",
              "      <td>GOOGL</td>\n",
              "      <td>2021/02/01</td>\n",
              "    </tr>\n",
              "    <tr>\n",
              "      <th>17</th>\n",
              "      <td>PTON</td>\n",
              "      <td>2021/02/03</td>\n",
              "    </tr>\n",
              "    <tr>\n",
              "      <th>27</th>\n",
              "      <td>BMY</td>\n",
              "      <td>2021/02/04</td>\n",
              "    </tr>\n",
              "    <tr>\n",
              "      <th>25</th>\n",
              "      <td>ROKU</td>\n",
              "      <td>2021/02/11</td>\n",
              "    </tr>\n",
              "    <tr>\n",
              "      <th>22</th>\n",
              "      <td>SBLK</td>\n",
              "      <td>2021/02/17</td>\n",
              "    </tr>\n",
              "    <tr>\n",
              "      <th>9</th>\n",
              "      <td>EBS</td>\n",
              "      <td>2021/02/18</td>\n",
              "    </tr>\n",
              "    <tr>\n",
              "      <th>8</th>\n",
              "      <td>MRNA</td>\n",
              "      <td>2021/02/24</td>\n",
              "    </tr>\n",
              "    <tr>\n",
              "      <th>26</th>\n",
              "      <td>SQ</td>\n",
              "      <td>2021/02/24</td>\n",
              "    </tr>\n",
              "    <tr>\n",
              "      <th>11</th>\n",
              "      <td>PLUG</td>\n",
              "      <td>2021/03/03</td>\n",
              "    </tr>\n",
              "    <tr>\n",
              "      <th>7</th>\n",
              "      <td>ZM</td>\n",
              "      <td>2021/03/05</td>\n",
              "    </tr>\n",
              "    <tr>\n",
              "      <th>6</th>\n",
              "      <td>ORCL</td>\n",
              "      <td>2021/03/10</td>\n",
              "    </tr>\n",
              "    <tr>\n",
              "      <th>16</th>\n",
              "      <td>DOCU</td>\n",
              "      <td>2021/03/10</td>\n",
              "    </tr>\n",
              "    <tr>\n",
              "      <th>0</th>\n",
              "      <td>WORK</td>\n",
              "      <td>2021/03/10</td>\n",
              "    </tr>\n",
              "    <tr>\n",
              "      <th>18</th>\n",
              "      <td>CRWD</td>\n",
              "      <td>2021/03/17</td>\n",
              "    </tr>\n",
              "  </tbody>\n",
              "</table>\n",
              "</div>"
            ],
            "text/plain": [
              "       銘柄         決算日\n",
              "21   ROOT           -\n",
              "24   FUTU  2020/05/14\n",
              "23    IAC  2020/11/06\n",
              "20     ZI  2020/11/09\n",
              "12   WKHS  2020/11/09\n",
              "19    RKT  2020/11/10\n",
              "10   BNTX  2020/11/10\n",
              "15   RPRX  2020/11/11\n",
              "14      U  2020/11/12\n",
              "13    DAL  2021/01/14\n",
              "1    AAPL  2021/01/26\n",
              "28   ANTM  2021/01/27\n",
              "2    MSFT  2021/01/27\n",
              "3    TSLA  2021/01/27\n",
              "4    AMZN  2021/01/28\n",
              "5   GOOGL  2021/02/01\n",
              "17   PTON  2021/02/03\n",
              "27    BMY  2021/02/04\n",
              "25   ROKU  2021/02/11\n",
              "22   SBLK  2021/02/17\n",
              "9     EBS  2021/02/18\n",
              "8    MRNA  2021/02/24\n",
              "26     SQ  2021/02/24\n",
              "11   PLUG  2021/03/03\n",
              "7      ZM  2021/03/05\n",
              "6    ORCL  2021/03/10\n",
              "16   DOCU  2021/03/10\n",
              "0    WORK  2021/03/10\n",
              "18   CRWD  2021/03/17"
            ]
          },
          "metadata": {
            "tags": []
          },
          "execution_count": 13
        }
      ]
    }
  ]
}