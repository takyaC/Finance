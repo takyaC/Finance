{
  "nbformat": 4,
  "nbformat_minor": 0,
  "metadata": {
    "colab": {
      "name": "Untitled0.ipynb",
      "provenance": [],
      "authorship_tag": "ABX9TyOAdV9pAfRYaKmnQq1fiDj2",
      "include_colab_link": true
    },
    "kernelspec": {
      "name": "python3",
      "display_name": "Python 3"
    }
  },
  "cells": [
    {
      "cell_type": "markdown",
      "metadata": {
        "id": "view-in-github",
        "colab_type": "text"
      },
      "source": [
        "<a href=\"https://colab.research.google.com/github/takyaC/Finance/blob/main/EstimateAndActual.ipynb\" target=\"_parent\"><img src=\"https://colab.research.google.com/assets/colab-badge.svg\" alt=\"Open In Colab\"/></a>"
      ]
    },
    {
      "cell_type": "code",
      "metadata": {
        "colab": {
          "base_uri": "https://localhost:8080/"
        },
        "id": "C3CY0M-a1pk_",
        "outputId": "53cb4b87-b171-4c6c-e54a-ddb18343b585"
      },
      "source": [
        "pip install yahoo_fin"
      ],
      "execution_count": null,
      "outputs": [
        {
          "output_type": "stream",
          "text": [
            "Collecting yahoo_fin\n",
            "  Downloading https://files.pythonhosted.org/packages/d3/5c/6bf0c0147cc94d643e2a2413d0a9b27967e964ee99f88f26db93a0b963b8/yahoo_fin-0.8.6-py3-none-any.whl\n",
            "Installing collected packages: yahoo-fin\n",
            "Successfully installed yahoo-fin-0.8.6\n"
          ],
          "name": "stdout"
        }
      ]
    },
    {
      "cell_type": "code",
      "metadata": {
        "colab": {
          "base_uri": "https://localhost:8080/"
        },
        "id": "aJKu5v2w1pu2",
        "outputId": "cfc44dd4-28a3-41a2-d8a3-18e960d02eaf"
      },
      "source": [
        "pip install pandas"
      ],
      "execution_count": null,
      "outputs": [
        {
          "output_type": "stream",
          "text": [
            "Requirement already satisfied: pandas in /usr/local/lib/python3.6/dist-packages (1.1.5)\n",
            "Requirement already satisfied: python-dateutil>=2.7.3 in /usr/local/lib/python3.6/dist-packages (from pandas) (2.8.1)\n",
            "Requirement already satisfied: numpy>=1.15.4 in /usr/local/lib/python3.6/dist-packages (from pandas) (1.19.4)\n",
            "Requirement already satisfied: pytz>=2017.2 in /usr/local/lib/python3.6/dist-packages (from pandas) (2018.9)\n",
            "Requirement already satisfied: six>=1.5 in /usr/local/lib/python3.6/dist-packages (from python-dateutil>=2.7.3->pandas) (1.15.0)\n"
          ],
          "name": "stdout"
        }
      ]
    },
    {
      "cell_type": "code",
      "metadata": {
        "colab": {
          "base_uri": "https://localhost:8080/"
        },
        "id": "PRbGJZoo2F8w",
        "outputId": "3f9aec8f-4324-416c-8003-d29cdc711dc5"
      },
      "source": [
        "pip install requests_html"
      ],
      "execution_count": null,
      "outputs": [
        {
          "output_type": "stream",
          "text": [
            "Requirement already satisfied: requests_html in /usr/local/lib/python3.6/dist-packages (0.10.0)\n",
            "Requirement already satisfied: w3lib in /usr/local/lib/python3.6/dist-packages (from requests_html) (1.22.0)\n",
            "Requirement already satisfied: pyppeteer>=0.0.14 in /usr/local/lib/python3.6/dist-packages (from requests_html) (0.2.5)\n",
            "Requirement already satisfied: bs4 in /usr/local/lib/python3.6/dist-packages (from requests_html) (0.0.1)\n",
            "Requirement already satisfied: fake-useragent in /usr/local/lib/python3.6/dist-packages (from requests_html) (0.1.11)\n",
            "Requirement already satisfied: pyquery in /usr/local/lib/python3.6/dist-packages (from requests_html) (1.4.3)\n",
            "Requirement already satisfied: parse in /usr/local/lib/python3.6/dist-packages (from requests_html) (1.18.0)\n",
            "Requirement already satisfied: requests in /usr/local/lib/python3.6/dist-packages (from requests_html) (2.23.0)\n",
            "Requirement already satisfied: six>=1.4.1 in /usr/local/lib/python3.6/dist-packages (from w3lib->requests_html) (1.15.0)\n",
            "Requirement already satisfied: appdirs<2.0.0,>=1.4.3 in /usr/local/lib/python3.6/dist-packages (from pyppeteer>=0.0.14->requests_html) (1.4.4)\n",
            "Requirement already satisfied: pyee<9.0.0,>=8.1.0 in /usr/local/lib/python3.6/dist-packages (from pyppeteer>=0.0.14->requests_html) (8.1.0)\n",
            "Requirement already satisfied: urllib3<2.0.0,>=1.25.8 in /usr/local/lib/python3.6/dist-packages (from pyppeteer>=0.0.14->requests_html) (1.26.2)\n",
            "Requirement already satisfied: websockets<9.0,>=8.1 in /usr/local/lib/python3.6/dist-packages (from pyppeteer>=0.0.14->requests_html) (8.1)\n",
            "Requirement already satisfied: importlib-metadata<3.0.0,>=2.1.1; python_version < \"3.8\" in /usr/local/lib/python3.6/dist-packages (from pyppeteer>=0.0.14->requests_html) (2.1.1)\n",
            "Requirement already satisfied: tqdm<5.0.0,>=4.42.1 in /usr/local/lib/python3.6/dist-packages (from pyppeteer>=0.0.14->requests_html) (4.55.1)\n",
            "Requirement already satisfied: beautifulsoup4 in /usr/local/lib/python3.6/dist-packages (from bs4->requests_html) (4.6.3)\n",
            "Requirement already satisfied: cssselect>0.7.9 in /usr/local/lib/python3.6/dist-packages (from pyquery->requests_html) (1.1.0)\n",
            "Requirement already satisfied: lxml>=2.1 in /usr/local/lib/python3.6/dist-packages (from pyquery->requests_html) (4.2.6)\n",
            "Requirement already satisfied: chardet<4,>=3.0.2 in /usr/local/lib/python3.6/dist-packages (from requests->requests_html) (3.0.4)\n",
            "Requirement already satisfied: certifi>=2017.4.17 in /usr/local/lib/python3.6/dist-packages (from requests->requests_html) (2020.12.5)\n",
            "Requirement already satisfied: idna<3,>=2.5 in /usr/local/lib/python3.6/dist-packages (from requests->requests_html) (2.10)\n",
            "Requirement already satisfied: zipp>=0.5 in /usr/local/lib/python3.6/dist-packages (from importlib-metadata<3.0.0,>=2.1.1; python_version < \"3.8\"->pyppeteer>=0.0.14->requests_html) (3.4.0)\n"
          ],
          "name": "stdout"
        }
      ]
    },
    {
      "cell_type": "code",
      "metadata": {
        "id": "Ysj73hI11p1R"
      },
      "source": [
        "from yahoo_fin.stock_info import get_analysts_info, get_cash_flow, get_income_statement, get_earnings_history, get_earnings, get_next_earnings_date\n",
        "import pandas"
      ],
      "execution_count": 47,
      "outputs": []
    },
    {
      "cell_type": "code",
      "metadata": {
        "id": "nF7Oh6gl1-qf"
      },
      "source": [
        "tickers = [\n",
        "           \"SQ\",\"WKHS\"\n",
        "#  \"AAPL\",\"AFRM\",\"AMZN\",\"ANTM\",\"APPS\",\"BMY\",\"BNTX\",\"CCL\",\"CRWD\",\"DAL\",\n",
        "#  \"DKNG\",\"DOCU\",\"EBS\",\"FUTU\",\"FVRR\",\"GE\",\"GOOGL\",\"IAC\",\"JPM\",\"MRNA\",\n",
        "#  \"MSFT\",\"NIO\",\"ORCL\",\"PINS\",\"PLUG\",\"PTON\",\"RBLX\",\"RKT\",\"ROKU\",\"ROOT\",\n",
        "#  \"RPRX\",\"SBLK\",\"SQ\",\"TSLA\",\"U\",\"WKHS\",\"WORK\",\"ZI\",\"ZM\"\n",
        " ]"
      ],
      "execution_count": 152,
      "outputs": []
    },
    {
      "cell_type": "code",
      "metadata": {
        "colab": {
          "base_uri": "https://localhost:8080/"
        },
        "id": "VeaCFqqL1p5p",
        "outputId": "f19a78fc-5298-4120-aee8-080cde13e847"
      },
      "source": [
        "data_of_ticker = []\n",
        "\n",
        "for ticker in tickers:\n",
        "    try:\n",
        "      # アナリスト予想（予想EPS、予想売上）\n",
        "      ai = get_analysts_info(ticker)\n",
        "      earnings_estimate = ai[\"Earnings Estimate\"].iloc[[1], [1, 3, 4]]\n",
        "      revenue_estimate = ai[\"Revenue Estimate\"].iloc[[1], [1, 3, 4]]\n",
        "\n",
        "      # EPS履歴\n",
        "      earings = get_earnings(ticker)\n",
        "      quarterly_results_row = len(earings[\"quarterly_results\"]) -1\n",
        "      earings_last_results = earings[\"quarterly_results\"].iloc[quarterly_results_row, 2] # 右下のデータ(最終？Q、実績)を取得      \n",
        "\n",
        "      # 損益計算書（四半期売上）\n",
        "      ist = get_income_statement(ticker, False)\n",
        "      total_revenue = ist.loc[[\"totalRevenue\"], ist.columns[0]]\n",
        "\n",
        "      # 単位付与(100万/１０億)\n",
        "      total_revenue_by_million = total_revenue.values / 1000 / 1000\n",
        "      if total_revenue_by_million < 1000:\n",
        "        converted_total_revenue = str(round(total_revenue_by_million[0], 2)) + \"M\"\n",
        "      else:\n",
        "        converted_total_revenue = str(round((total_revenue_by_million[0] / 1000), 2)) + \"B\"\n",
        "        # a = total_revenue_by_million[0]\n",
        "        # b = a / 1000\n",
        "        # c = round(b, 2)\n",
        "        # print(a , type(a))\n",
        "        # print(b , type(b))\n",
        "        # print(c , type(c))\n",
        "        # print(round((total_revenue_by_million[0] / 1000), 2))\n",
        "      \n",
        "      # 損益計算書（年間売上）\n",
        "      isty = get_income_statement(ticker)\n",
        "      total_revenue_yearly = isty.loc[[\"totalRevenue\"], isty.columns[0]]\n",
        "\n",
        "      # 単位付与(100万/１０億)\n",
        "      total_revenue_yearly_by_million = total_revenue_yearly.values / 1000 / 1000\n",
        "      if total_revenue_yearly_by_million < 1000:\n",
        "        converted_total_revenue_yearly_by_million = str(round(total_revenue_yearly_by_million[0], 2)) + \"M\"\n",
        "      else:\n",
        "        converted_total_revenue_yearly_by_million = str(round((total_revenue_yearly_by_million[0] / 1000), 2)) + \"B\"\n",
        "\n",
        "      # キャッシュフロー計算書（純利益、営業キャッシュフロー、リスク（純利益<営業キャッシュフローが正常)）\n",
        "      cfy = get_cash_flow(ticker)\n",
        "      net_income_yearly = cfy.loc[[\"netIncome\"], cfy.columns[0]]\n",
        "      operating_cash_flow_yearly = cfy.loc[[\"totalCashFromOperatingActivities\"], cfy.columns[0]]\n",
        "      is_risk_cleard  = \"OK\" if operating_cash_flow_yearly.values > net_income_yearly.values else \"NG\"\n",
        "\n",
        "      # 営業キャッシュフローマージン (15%以上推奨)\n",
        "      cash_flow_margin_yearly_before = (operating_cash_flow_yearly.values / total_revenue_yearly.values)\n",
        "      cash_flow_margin_yearly = round(cash_flow_margin_yearly_before[0], 2)\n",
        "\n",
        "\n",
        "      # 次回決算発表日\n",
        "      next_earnings_date = get_next_earnings_date(ticker)\n",
        "\n",
        "      # 設定\n",
        "      data = []\n",
        "      data.extend([ticker])\n",
        "\n",
        "      data.extend([earings_last_results]) # 前四半期 EPS\n",
        "      data.extend([converted_total_revenue]) # 前四半期 売上\n",
        "      data.extend([earnings_estimate.values[0][0]]) # 今四半期予想 EPS\n",
        "      data.extend([revenue_estimate.values[0][0]]) # 今四半期予想 売上\n",
        "      data.extend([earnings_estimate.values[0][1]]) # 今年度予想 EPS\n",
        "      data.extend([revenue_estimate.values[0][1]]) # 今年度予想 売上\n",
        "      data.extend([earnings_estimate.values[0][2]]) # 次年度予想 EPS\n",
        "      data.extend([revenue_estimate.values[0][2]]) # 次年度予想 売上\n",
        "      # data.extend([converted_total_revenue_yearly_by_million]) # 前年度売上\n",
        "\n",
        "      data.extend([is_risk_cleard])\n",
        "      data.extend([cash_flow_margin_yearly])\n",
        "      \n",
        "      data.extend([\"-\"]) # 空列\n",
        "      data.extend([next_earnings_date]) # 次回決算発表日\n",
        "      data_of_ticker.append(data)\n",
        "\n",
        "      print(data)\n",
        "    except Exception as e:\n",
        "      print(e)\n",
        "      data_of_ticker.append([ticker])\n",
        "      "
      ],
      "execution_count": 159,
      "outputs": [
        {
          "output_type": "stream",
          "text": [
            "['SQ', 0.24, '3.16B', 0.16, '3.28B', 1.23, '13.76B', 1.88, '16.35B', 'OK', 0.04, '-', datetime.datetime(2021, 5, 6, 0, 0)]\n",
            "['WKHS', -0.13, '0.65M', -0.17, '2.71M', -0.58, '112.44M', -0.13, '295.57M', 'NG', -50.47, '-', datetime.datetime(2021, 3, 1, 0, 0)]\n"
          ],
          "name": "stdout"
        }
      ]
    },
    {
      "cell_type": "code",
      "metadata": {
        "colab": {
          "base_uri": "https://localhost:8080/",
          "height": 128
        },
        "id": "tnmAM7rtLdxb",
        "outputId": "6e027ce0-408c-4cad-aa7a-27b3e762acde"
      },
      "source": [
        "pandas.DataFrame(data_of_ticker, columns=[\n",
        "        \"銘柄\",\n",
        "        \"前四半期EPS\",\n",
        "        \"前四半期売上\",\n",
        "        \"今四半期予想　EPS\", \n",
        "        \"今四半期予想　売上\",\n",
        "        \"今年度予想　EPS\", \n",
        "        \"今年度予想　売上\",\n",
        "        \"次年度予想　EPS\",\n",
        "        \"次年度予想　売上\",\n",
        "        \"リスク\",\n",
        "        \"営業キャッシュフローマージン\",\n",
        "        \"-\",\n",
        "        \"次回決算発表日\"])\n"
      ],
      "execution_count": 160,
      "outputs": [
        {
          "output_type": "execute_result",
          "data": {
            "text/html": [
              "<div>\n",
              "<style scoped>\n",
              "    .dataframe tbody tr th:only-of-type {\n",
              "        vertical-align: middle;\n",
              "    }\n",
              "\n",
              "    .dataframe tbody tr th {\n",
              "        vertical-align: top;\n",
              "    }\n",
              "\n",
              "    .dataframe thead th {\n",
              "        text-align: right;\n",
              "    }\n",
              "</style>\n",
              "<table border=\"1\" class=\"dataframe\">\n",
              "  <thead>\n",
              "    <tr style=\"text-align: right;\">\n",
              "      <th></th>\n",
              "      <th>銘柄</th>\n",
              "      <th>前四半期EPS</th>\n",
              "      <th>前四半期売上</th>\n",
              "      <th>今四半期予想　EPS</th>\n",
              "      <th>今四半期予想　売上</th>\n",
              "      <th>今年度予想　EPS</th>\n",
              "      <th>今年度予想　売上</th>\n",
              "      <th>次年度予想　EPS</th>\n",
              "      <th>次年度予想　売上</th>\n",
              "      <th>リスク</th>\n",
              "      <th>営業キャッシュフローマージン</th>\n",
              "      <th>-</th>\n",
              "      <th>次回決算発表日</th>\n",
              "    </tr>\n",
              "  </thead>\n",
              "  <tbody>\n",
              "    <tr>\n",
              "      <th>0</th>\n",
              "      <td>SQ</td>\n",
              "      <td>0.24</td>\n",
              "      <td>3.16B</td>\n",
              "      <td>0.16</td>\n",
              "      <td>3.28B</td>\n",
              "      <td>1.23</td>\n",
              "      <td>13.76B</td>\n",
              "      <td>1.88</td>\n",
              "      <td>16.35B</td>\n",
              "      <td>OK</td>\n",
              "      <td>0.04</td>\n",
              "      <td>-</td>\n",
              "      <td>2021-05-06</td>\n",
              "    </tr>\n",
              "    <tr>\n",
              "      <th>1</th>\n",
              "      <td>WKHS</td>\n",
              "      <td>-0.13</td>\n",
              "      <td>0.65M</td>\n",
              "      <td>-0.17</td>\n",
              "      <td>2.71M</td>\n",
              "      <td>-0.58</td>\n",
              "      <td>112.44M</td>\n",
              "      <td>-0.13</td>\n",
              "      <td>295.57M</td>\n",
              "      <td>NG</td>\n",
              "      <td>-50.47</td>\n",
              "      <td>-</td>\n",
              "      <td>2021-03-01</td>\n",
              "    </tr>\n",
              "  </tbody>\n",
              "</table>\n",
              "</div>"
            ],
            "text/plain": [
              "     銘柄  前四半期EPS 前四半期売上  今四半期予想　EPS  ... リスク  営業キャッシュフローマージン  -    次回決算発表日\n",
              "0    SQ     0.24  3.16B        0.16  ...  OK            0.04  - 2021-05-06\n",
              "1  WKHS    -0.13  0.65M       -0.17  ...  NG          -50.47  - 2021-03-01\n",
              "\n",
              "[2 rows x 13 columns]"
            ]
          },
          "metadata": {
            "tags": []
          },
          "execution_count": 160
        }
      ]
    }
  ]
}