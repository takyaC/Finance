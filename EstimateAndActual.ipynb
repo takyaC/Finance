{
  "nbformat": 4,
  "nbformat_minor": 0,
  "metadata": {
    "colab": {
      "name": "Untitled0.ipynb",
      "provenance": [],
      "authorship_tag": "ABX9TyPTot3+Ce8ZN0cEtkNv+Inn",
      "include_colab_link": true
    },
    "kernelspec": {
      "name": "python3",
      "display_name": "Python 3"
    }
  },
  "cells": [
    {
      "cell_type": "markdown",
      "metadata": {
        "id": "view-in-github",
        "colab_type": "text"
      },
      "source": [
        "<a href=\"https://colab.research.google.com/github/takyaC/Finance/blob/main/EstimateAndActual.ipynb\" target=\"_parent\"><img src=\"https://colab.research.google.com/assets/colab-badge.svg\" alt=\"Open In Colab\"/></a>"
      ]
    },
    {
      "cell_type": "code",
      "metadata": {
        "colab": {
          "base_uri": "https://localhost:8080/"
        },
        "id": "C3CY0M-a1pk_",
        "outputId": "94161e55-3fce-480c-ddb0-4a8d63fac18c"
      },
      "source": [
        "pip install yahoo_fin"
      ],
      "execution_count": 5,
      "outputs": [
        {
          "output_type": "stream",
          "text": [
            "Collecting yahoo_fin\n",
            "  Downloading https://files.pythonhosted.org/packages/19/ef/f56702d319682840781433e8df747407a636a313d801039e58028c77269b/yahoo_fin-0.8.7-py3-none-any.whl\n",
            "Collecting requests-html\n",
            "  Downloading https://files.pythonhosted.org/packages/24/bc/a4380f09bab3a776182578ce6b2771e57259d0d4dbce178205779abdc347/requests_html-0.10.0-py3-none-any.whl\n",
            "Requirement already satisfied: pandas in /usr/local/lib/python3.7/dist-packages (from yahoo_fin) (1.1.5)\n",
            "Collecting feedparser\n",
            "\u001b[?25l  Downloading https://files.pythonhosted.org/packages/1c/21/faf1bac028662cc8adb2b5ef7a6f3999a765baa2835331df365289b0ca56/feedparser-6.0.2-py3-none-any.whl (80kB)\n",
            "\u001b[K     |████████████████████████████████| 81kB 5.3MB/s \n",
            "\u001b[?25hRequirement already satisfied: requests in /usr/local/lib/python3.7/dist-packages (from yahoo_fin) (2.23.0)\n",
            "Collecting pyquery\n",
            "  Downloading https://files.pythonhosted.org/packages/58/0b/85d15e21f660a8ea68b1e0286168938857391f4ec9f6d204d91c9e013826/pyquery-1.4.3-py3-none-any.whl\n",
            "Collecting pyppeteer>=0.0.14\n",
            "\u001b[?25l  Downloading https://files.pythonhosted.org/packages/4a/05/ea3250282e46fda60df1f1d5246bb8cdc022abb89969c61a98ea28fd6b82/pyppeteer-0.2.5-py3-none-any.whl (87kB)\n",
            "\u001b[K     |████████████████████████████████| 92kB 7.3MB/s \n",
            "\u001b[?25hCollecting parse\n",
            "  Downloading https://files.pythonhosted.org/packages/89/a1/82ce536be577ba09d4dcee45db58423a180873ad38a2d014d26ab7b7cb8a/parse-1.19.0.tar.gz\n",
            "Collecting fake-useragent\n",
            "  Downloading https://files.pythonhosted.org/packages/d1/79/af647635d6968e2deb57a208d309f6069d31cb138066d7e821e575112a80/fake-useragent-0.1.11.tar.gz\n",
            "Requirement already satisfied: bs4 in /usr/local/lib/python3.7/dist-packages (from requests-html->yahoo_fin) (0.0.1)\n",
            "Collecting w3lib\n",
            "  Downloading https://files.pythonhosted.org/packages/a3/59/b6b14521090e7f42669cafdb84b0ab89301a42f1f1a82fcf5856661ea3a7/w3lib-1.22.0-py2.py3-none-any.whl\n",
            "Requirement already satisfied: pytz>=2017.2 in /usr/local/lib/python3.7/dist-packages (from pandas->yahoo_fin) (2018.9)\n",
            "Requirement already satisfied: numpy>=1.15.4 in /usr/local/lib/python3.7/dist-packages (from pandas->yahoo_fin) (1.19.5)\n",
            "Requirement already satisfied: python-dateutil>=2.7.3 in /usr/local/lib/python3.7/dist-packages (from pandas->yahoo_fin) (2.8.1)\n",
            "Collecting sgmllib3k\n",
            "  Downloading https://files.pythonhosted.org/packages/9e/bd/3704a8c3e0942d711c1299ebf7b9091930adae6675d7c8f476a7ce48653c/sgmllib3k-1.0.0.tar.gz\n",
            "Requirement already satisfied: certifi>=2017.4.17 in /usr/local/lib/python3.7/dist-packages (from requests->yahoo_fin) (2020.12.5)\n",
            "Requirement already satisfied: urllib3!=1.25.0,!=1.25.1,<1.26,>=1.21.1 in /usr/local/lib/python3.7/dist-packages (from requests->yahoo_fin) (1.24.3)\n",
            "Requirement already satisfied: chardet<4,>=3.0.2 in /usr/local/lib/python3.7/dist-packages (from requests->yahoo_fin) (3.0.4)\n",
            "Requirement already satisfied: idna<3,>=2.5 in /usr/local/lib/python3.7/dist-packages (from requests->yahoo_fin) (2.10)\n",
            "Requirement already satisfied: lxml>=2.1 in /usr/local/lib/python3.7/dist-packages (from pyquery->requests-html->yahoo_fin) (4.2.6)\n",
            "Collecting cssselect>0.7.9\n",
            "  Downloading https://files.pythonhosted.org/packages/3b/d4/3b5c17f00cce85b9a1e6f91096e1cc8e8ede2e1be8e96b87ce1ed09e92c5/cssselect-1.1.0-py2.py3-none-any.whl\n",
            "Collecting pyee<9.0.0,>=8.1.0\n",
            "  Downloading https://files.pythonhosted.org/packages/0d/0a/933b3931107e1da186963fd9bb9bceb9a613cff034cb0fb3b0c61003f357/pyee-8.1.0-py2.py3-none-any.whl\n",
            "Requirement already satisfied: appdirs<2.0.0,>=1.4.3 in /usr/local/lib/python3.7/dist-packages (from pyppeteer>=0.0.14->requests-html->yahoo_fin) (1.4.4)\n",
            "Collecting tqdm<5.0.0,>=4.42.1\n",
            "\u001b[?25l  Downloading https://files.pythonhosted.org/packages/f8/3e/2730d0effc282960dbff3cf91599ad0d8f3faedc8e75720fdf224b31ab24/tqdm-4.59.0-py2.py3-none-any.whl (74kB)\n",
            "\u001b[K     |████████████████████████████████| 81kB 7.6MB/s \n",
            "\u001b[?25hCollecting importlib-metadata<3.0.0,>=2.1.1; python_version < \"3.8\"\n",
            "  Downloading https://files.pythonhosted.org/packages/98/b8/8ec57a8ef46fbe7f185318c7ff7df9a06c9df451d9a59a067bfa851bb828/importlib_metadata-2.1.1-py2.py3-none-any.whl\n",
            "Collecting websockets<9.0,>=8.1\n",
            "\u001b[?25l  Downloading https://files.pythonhosted.org/packages/5a/0b/3ebc752392a368af14dd24ee041683416ac6d2463eead94b311b11e41c82/websockets-8.1-cp37-cp37m-manylinux2010_x86_64.whl (79kB)\n",
            "\u001b[K     |████████████████████████████████| 81kB 7.7MB/s \n",
            "\u001b[?25hRequirement already satisfied: beautifulsoup4 in /usr/local/lib/python3.7/dist-packages (from bs4->requests-html->yahoo_fin) (4.6.3)\n",
            "Requirement already satisfied: six>=1.4.1 in /usr/local/lib/python3.7/dist-packages (from w3lib->requests-html->yahoo_fin) (1.15.0)\n",
            "Requirement already satisfied: zipp>=0.5 in /usr/local/lib/python3.7/dist-packages (from importlib-metadata<3.0.0,>=2.1.1; python_version < \"3.8\"->pyppeteer>=0.0.14->requests-html->yahoo_fin) (3.4.1)\n",
            "Building wheels for collected packages: parse, fake-useragent, sgmllib3k\n",
            "  Building wheel for parse (setup.py) ... \u001b[?25l\u001b[?25hdone\n",
            "  Created wheel for parse: filename=parse-1.19.0-cp37-none-any.whl size=24581 sha256=cbb878739dd871fd5d939147111a9298b4f0d2565322b48a5f8599efe930f991\n",
            "  Stored in directory: /root/.cache/pip/wheels/c0/39/ea/e2fd678bd130953f5438470b8dfa529f00787e9b8b92b27467\n",
            "  Building wheel for fake-useragent (setup.py) ... \u001b[?25l\u001b[?25hdone\n",
            "  Created wheel for fake-useragent: filename=fake_useragent-0.1.11-cp37-none-any.whl size=13485 sha256=445aa0562da23e35d94cebd613510df7afc4af16fa3c8af3d739d06890cbc877\n",
            "  Stored in directory: /root/.cache/pip/wheels/5e/63/09/d1dc15179f175357d3f5c00cbffbac37f9e8690d80545143ff\n",
            "  Building wheel for sgmllib3k (setup.py) ... \u001b[?25l\u001b[?25hdone\n",
            "  Created wheel for sgmllib3k: filename=sgmllib3k-1.0.0-cp37-none-any.whl size=6067 sha256=3c6c22bca571d5d27cb1a8313bba55651ba6b5a1338829811236cd87363bf691\n",
            "  Stored in directory: /root/.cache/pip/wheels/f1/80/5a/444ba08a550cdd241bd9baf8bae44be750efe370adb944506a\n",
            "Successfully built parse fake-useragent sgmllib3k\n",
            "\u001b[31mERROR: pyppeteer 0.2.5 has requirement urllib3<2.0.0,>=1.25.8, but you'll have urllib3 1.24.3 which is incompatible.\u001b[0m\n",
            "Installing collected packages: cssselect, pyquery, pyee, tqdm, importlib-metadata, websockets, pyppeteer, parse, fake-useragent, w3lib, requests-html, sgmllib3k, feedparser, yahoo-fin\n",
            "  Found existing installation: tqdm 4.41.1\n",
            "    Uninstalling tqdm-4.41.1:\n",
            "      Successfully uninstalled tqdm-4.41.1\n",
            "  Found existing installation: importlib-metadata 3.7.0\n",
            "    Uninstalling importlib-metadata-3.7.0:\n",
            "      Successfully uninstalled importlib-metadata-3.7.0\n",
            "Successfully installed cssselect-1.1.0 fake-useragent-0.1.11 feedparser-6.0.2 importlib-metadata-2.1.1 parse-1.19.0 pyee-8.1.0 pyppeteer-0.2.5 pyquery-1.4.3 requests-html-0.10.0 sgmllib3k-1.0.0 tqdm-4.59.0 w3lib-1.22.0 websockets-8.1 yahoo-fin-0.8.7\n"
          ],
          "name": "stdout"
        }
      ]
    },
    {
      "cell_type": "code",
      "metadata": {
        "colab": {
          "base_uri": "https://localhost:8080/"
        },
        "id": "aJKu5v2w1pu2",
        "outputId": "ff28d42b-c5f9-48ba-ea13-1e11b7d876d5"
      },
      "source": [
        "pip install pandas"
      ],
      "execution_count": 6,
      "outputs": [
        {
          "output_type": "stream",
          "text": [
            "Requirement already satisfied: pandas in /usr/local/lib/python3.7/dist-packages (1.1.5)\n",
            "Requirement already satisfied: python-dateutil>=2.7.3 in /usr/local/lib/python3.7/dist-packages (from pandas) (2.8.1)\n",
            "Requirement already satisfied: numpy>=1.15.4 in /usr/local/lib/python3.7/dist-packages (from pandas) (1.19.5)\n",
            "Requirement already satisfied: pytz>=2017.2 in /usr/local/lib/python3.7/dist-packages (from pandas) (2018.9)\n",
            "Requirement already satisfied: six>=1.5 in /usr/local/lib/python3.7/dist-packages (from python-dateutil>=2.7.3->pandas) (1.15.0)\n"
          ],
          "name": "stdout"
        }
      ]
    },
    {
      "cell_type": "code",
      "metadata": {
        "colab": {
          "base_uri": "https://localhost:8080/"
        },
        "id": "PRbGJZoo2F8w",
        "outputId": "d60040ab-f133-4ca0-a960-d1d6cd76f8c4"
      },
      "source": [
        "pip install requests_html"
      ],
      "execution_count": 7,
      "outputs": [
        {
          "output_type": "stream",
          "text": [
            "Requirement already satisfied: requests_html in /usr/local/lib/python3.7/dist-packages (0.10.0)\n",
            "Requirement already satisfied: pyquery in /usr/local/lib/python3.7/dist-packages (from requests_html) (1.4.3)\n",
            "Requirement already satisfied: requests in /usr/local/lib/python3.7/dist-packages (from requests_html) (2.23.0)\n",
            "Requirement already satisfied: fake-useragent in /usr/local/lib/python3.7/dist-packages (from requests_html) (0.1.11)\n",
            "Requirement already satisfied: parse in /usr/local/lib/python3.7/dist-packages (from requests_html) (1.19.0)\n",
            "Requirement already satisfied: w3lib in /usr/local/lib/python3.7/dist-packages (from requests_html) (1.22.0)\n",
            "Requirement already satisfied: bs4 in /usr/local/lib/python3.7/dist-packages (from requests_html) (0.0.1)\n",
            "Requirement already satisfied: pyppeteer>=0.0.14 in /usr/local/lib/python3.7/dist-packages (from requests_html) (0.2.5)\n",
            "Requirement already satisfied: lxml>=2.1 in /usr/local/lib/python3.7/dist-packages (from pyquery->requests_html) (4.2.6)\n",
            "Requirement already satisfied: cssselect>0.7.9 in /usr/local/lib/python3.7/dist-packages (from pyquery->requests_html) (1.1.0)\n",
            "Requirement already satisfied: urllib3!=1.25.0,!=1.25.1,<1.26,>=1.21.1 in /usr/local/lib/python3.7/dist-packages (from requests->requests_html) (1.24.3)\n",
            "Requirement already satisfied: idna<3,>=2.5 in /usr/local/lib/python3.7/dist-packages (from requests->requests_html) (2.10)\n",
            "Requirement already satisfied: chardet<4,>=3.0.2 in /usr/local/lib/python3.7/dist-packages (from requests->requests_html) (3.0.4)\n",
            "Requirement already satisfied: certifi>=2017.4.17 in /usr/local/lib/python3.7/dist-packages (from requests->requests_html) (2020.12.5)\n",
            "Requirement already satisfied: six>=1.4.1 in /usr/local/lib/python3.7/dist-packages (from w3lib->requests_html) (1.15.0)\n",
            "Requirement already satisfied: beautifulsoup4 in /usr/local/lib/python3.7/dist-packages (from bs4->requests_html) (4.6.3)\n",
            "Requirement already satisfied: pyee<9.0.0,>=8.1.0 in /usr/local/lib/python3.7/dist-packages (from pyppeteer>=0.0.14->requests_html) (8.1.0)\n",
            "Requirement already satisfied: importlib-metadata<3.0.0,>=2.1.1; python_version < \"3.8\" in /usr/local/lib/python3.7/dist-packages (from pyppeteer>=0.0.14->requests_html) (2.1.1)\n",
            "Requirement already satisfied: appdirs<2.0.0,>=1.4.3 in /usr/local/lib/python3.7/dist-packages (from pyppeteer>=0.0.14->requests_html) (1.4.4)\n",
            "Requirement already satisfied: tqdm<5.0.0,>=4.42.1 in /usr/local/lib/python3.7/dist-packages (from pyppeteer>=0.0.14->requests_html) (4.59.0)\n",
            "Requirement already satisfied: websockets<9.0,>=8.1 in /usr/local/lib/python3.7/dist-packages (from pyppeteer>=0.0.14->requests_html) (8.1)\n",
            "Requirement already satisfied: zipp>=0.5 in /usr/local/lib/python3.7/dist-packages (from importlib-metadata<3.0.0,>=2.1.1; python_version < \"3.8\"->pyppeteer>=0.0.14->requests_html) (3.4.1)\n"
          ],
          "name": "stdout"
        }
      ]
    },
    {
      "cell_type": "code",
      "metadata": {
        "id": "Ysj73hI11p1R"
      },
      "source": [
        "from yahoo_fin.stock_info import get_analysts_info, get_cash_flow, get_income_statement, get_earnings_history, get_earnings, get_next_earnings_date, get_quote_table\n",
        "import pandas"
      ],
      "execution_count": 23,
      "outputs": []
    },
    {
      "cell_type": "code",
      "metadata": {
        "id": "nF7Oh6gl1-qf"
      },
      "source": [
        "tickers = [\n",
        "          #  \"AAPL\"\n",
        " \"AAPL\",\"AFRM\",\"AMZN\",\"ANTM\",\"APPS\",\"BMY\",\"BNTX\",\"CCL\",\"CRWD\",\"DAL\",\n",
        " \"DKNG\",\"DOCU\",\"EBS\",\"FUTU\",\"FVRR\",\"GE\",\"GOOGL\",\"IAC\",\"JPM\",\"MRNA\",\n",
        " \"MSFT\",\"NIO\",\"ORCL\",\"PINS\",\"PLUG\",\"PTON\",\"RBLX\",\"RKT\",\"ROKU\",\"ROOT\",\n",
        " \"RPRX\",\"SBLK\",\"SQ\",\"TSLA\",\"U\",\"WKHS\",\"WORK\",\"ZI\",\"ZM\"\n",
        " ]"
      ],
      "execution_count": 15,
      "outputs": []
    },
    {
      "cell_type": "code",
      "metadata": {
        "colab": {
          "base_uri": "https://localhost:8080/"
        },
        "id": "VeaCFqqL1p5p",
        "outputId": "f19a78fc-5298-4120-aee8-080cde13e847"
      },
      "source": [
        "data_of_ticker = []\n",
        "\n",
        "for ticker in tickers:\n",
        "    try:\n",
        "      # アナリスト予想（予想EPS、予想売上）\n",
        "      ai = get_analysts_info(ticker)\n",
        "      earnings_estimate = ai[\"Earnings Estimate\"].iloc[[1], [1, 3, 4]]\n",
        "      revenue_estimate = ai[\"Revenue Estimate\"].iloc[[1], [1, 3, 4]]\n",
        "\n",
        "      # EPS履歴\n",
        "      earings = get_earnings(ticker)\n",
        "      quarterly_results_row = len(earings[\"quarterly_results\"]) -1\n",
        "      earings_last_results = earings[\"quarterly_results\"].iloc[quarterly_results_row, 1] # 最終Q、実績を取得\n",
        "\n",
        "      # 損益計算書（四半期売上）\n",
        "      ist = get_income_statement(ticker, False)\n",
        "      total_revenue = ist.loc[[\"totalRevenue\"], ist.columns[0]]\n",
        "\n",
        "      # 単位付与(100万/１０億)\n",
        "      total_revenue_by_million = total_revenue.values / 1000 / 1000\n",
        "      if total_revenue_by_million < 1000:\n",
        "        converted_total_revenue = str(round(total_revenue_by_million[0], 2)) + \"M\"\n",
        "      else:\n",
        "        converted_total_revenue = str(round((total_revenue_by_million[0] / 1000), 2)) + \"B\"\n",
        "      \n",
        "      # 損益計算書（年間売上）\n",
        "      isty = get_income_statement(ticker)\n",
        "      total_revenue_yearly = isty.loc[[\"totalRevenue\"], isty.columns[0]]\n",
        "\n",
        "      # 単位付与(100万/１０億)\n",
        "      total_revenue_yearly_by_million = total_revenue_yearly.values / 1000 / 1000\n",
        "      if total_revenue_yearly_by_million < 1000:\n",
        "        converted_total_revenue_yearly_by_million = str(round(total_revenue_yearly_by_million[0], 2)) + \"M\"\n",
        "      else:\n",
        "        converted_total_revenue_yearly_by_million = str(round((total_revenue_yearly_by_million[0] / 1000), 2)) + \"B\"\n",
        "\n",
        "      # キャッシュフロー計算書（純利益、営業キャッシュフロー、リスク（純利益<営業キャッシュフローが正常)）\n",
        "      cfy = get_cash_flow(ticker)\n",
        "      net_income_yearly = cfy.loc[[\"netIncome\"], cfy.columns[0]]\n",
        "      operating_cash_flow_yearly = cfy.loc[[\"totalCashFromOperatingActivities\"], cfy.columns[0]]\n",
        "      is_risk_cleard  = \"OK\" if operating_cash_flow_yearly.values > net_income_yearly.values else \"NG\"\n",
        "\n",
        "      # 営業キャッシュフローマージン (15%以上推奨)\n",
        "      cash_flow_margin_yearly_before = (operating_cash_flow_yearly.values / total_revenue_yearly.values)\n",
        "      cash_flow_margin_yearly = round(cash_flow_margin_yearly_before[0], 2)\n",
        "\n",
        "\n",
        "      # 次回決算発表日\n",
        "      next_earnings_date = get_next_earnings_date(ticker)\n",
        "\n",
        "      # 設定\n",
        "      data = []\n",
        "      data.extend([ticker])\n",
        "\n",
        "      data.extend([earings_last_results]) # 前四半期 EPS\n",
        "      data.extend([converted_total_revenue]) # 前四半期 売上\n",
        "      data.extend([earnings_estimate.values[0][0]]) # 今四半期予想 EPS\n",
        "      data.extend([revenue_estimate.values[0][0]]) # 今四半期予想 売上\n",
        "      data.extend([earnings_estimate.values[0][1]]) # 今年度予想 EPS\n",
        "      data.extend([revenue_estimate.values[0][1]]) # 今年度予想 売上\n",
        "      data.extend([earnings_estimate.values[0][2]]) # 次年度予想 EPS\n",
        "      data.extend([revenue_estimate.values[0][2]]) # 次年度予想 売上\n",
        "      # data.extend([converted_total_revenue_yearly_by_million]) # 前年度売上\n",
        "\n",
        "      data.extend([is_risk_cleard])\n",
        "      data.extend([cash_flow_margin_yearly])\n",
        "      \n",
        "      data.extend([next_earnings_date]) # 次回決算発表日\n",
        "      data_of_ticker.append(data)\n",
        "\n",
        "      print(data)\n",
        "    except Exception as e:\n",
        "      print(e)\n",
        "      data_of_ticker.append([ticker])\n",
        "      "
      ],
      "execution_count": 159,
      "outputs": [
        {
          "output_type": "stream",
          "text": [
            "['SQ', 0.24, '3.16B', 0.16, '3.28B', 1.23, '13.76B', 1.88, '16.35B', 'OK', 0.04, '-', datetime.datetime(2021, 5, 6, 0, 0)]\n",
            "['WKHS', -0.13, '0.65M', -0.17, '2.71M', -0.58, '112.44M', -0.13, '295.57M', 'NG', -50.47, '-', datetime.datetime(2021, 3, 1, 0, 0)]\n"
          ],
          "name": "stdout"
        }
      ]
    },
    {
      "cell_type": "code",
      "metadata": {
        "colab": {
          "base_uri": "https://localhost:8080/",
          "height": 128
        },
        "id": "tnmAM7rtLdxb",
        "outputId": "6e027ce0-408c-4cad-aa7a-27b3e762acde"
      },
      "source": [
        "pandas.DataFrame(data_of_ticker, columns=[\n",
        "        \"銘柄\",\n",
        "        \"前四半期EPS\",\n",
        "        \"前四半期売上\",\n",
        "        \"今四半期予想　EPS\", \n",
        "        \"今四半期予想　売上\",\n",
        "        \"今年度予想　EPS\", \n",
        "        \"今年度予想　売上\",\n",
        "        \"次年度予想　EPS\",\n",
        "        \"次年度予想　売上\",\n",
        "        \"リスク\",\n",
        "        \"営業キャッシュフローマージン\",\n",
        "        \"次回決算発表日\"])\n"
      ],
      "execution_count": 160,
      "outputs": [
        {
          "output_type": "execute_result",
          "data": {
            "text/html": [
              "<div>\n",
              "<style scoped>\n",
              "    .dataframe tbody tr th:only-of-type {\n",
              "        vertical-align: middle;\n",
              "    }\n",
              "\n",
              "    .dataframe tbody tr th {\n",
              "        vertical-align: top;\n",
              "    }\n",
              "\n",
              "    .dataframe thead th {\n",
              "        text-align: right;\n",
              "    }\n",
              "</style>\n",
              "<table border=\"1\" class=\"dataframe\">\n",
              "  <thead>\n",
              "    <tr style=\"text-align: right;\">\n",
              "      <th></th>\n",
              "      <th>銘柄</th>\n",
              "      <th>前四半期EPS</th>\n",
              "      <th>前四半期売上</th>\n",
              "      <th>今四半期予想　EPS</th>\n",
              "      <th>今四半期予想　売上</th>\n",
              "      <th>今年度予想　EPS</th>\n",
              "      <th>今年度予想　売上</th>\n",
              "      <th>次年度予想　EPS</th>\n",
              "      <th>次年度予想　売上</th>\n",
              "      <th>リスク</th>\n",
              "      <th>営業キャッシュフローマージン</th>\n",
              "      <th>-</th>\n",
              "      <th>次回決算発表日</th>\n",
              "    </tr>\n",
              "  </thead>\n",
              "  <tbody>\n",
              "    <tr>\n",
              "      <th>0</th>\n",
              "      <td>SQ</td>\n",
              "      <td>0.24</td>\n",
              "      <td>3.16B</td>\n",
              "      <td>0.16</td>\n",
              "      <td>3.28B</td>\n",
              "      <td>1.23</td>\n",
              "      <td>13.76B</td>\n",
              "      <td>1.88</td>\n",
              "      <td>16.35B</td>\n",
              "      <td>OK</td>\n",
              "      <td>0.04</td>\n",
              "      <td>-</td>\n",
              "      <td>2021-05-06</td>\n",
              "    </tr>\n",
              "    <tr>\n",
              "      <th>1</th>\n",
              "      <td>WKHS</td>\n",
              "      <td>-0.13</td>\n",
              "      <td>0.65M</td>\n",
              "      <td>-0.17</td>\n",
              "      <td>2.71M</td>\n",
              "      <td>-0.58</td>\n",
              "      <td>112.44M</td>\n",
              "      <td>-0.13</td>\n",
              "      <td>295.57M</td>\n",
              "      <td>NG</td>\n",
              "      <td>-50.47</td>\n",
              "      <td>-</td>\n",
              "      <td>2021-03-01</td>\n",
              "    </tr>\n",
              "  </tbody>\n",
              "</table>\n",
              "</div>"
            ],
            "text/plain": [
              "     銘柄  前四半期EPS 前四半期売上  今四半期予想　EPS  ... リスク  営業キャッシュフローマージン  -    次回決算発表日\n",
              "0    SQ     0.24  3.16B        0.16  ...  OK            0.04  - 2021-05-06\n",
              "1  WKHS    -0.13  0.65M       -0.17  ...  NG          -50.47  - 2021-03-01\n",
              "\n",
              "[2 rows x 13 columns]"
            ]
          },
          "metadata": {
            "tags": []
          },
          "execution_count": 160
        }
      ]
    }
  ]
}