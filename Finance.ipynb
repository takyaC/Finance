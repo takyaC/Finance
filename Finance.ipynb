{
  "nbformat": 4,
  "nbformat_minor": 0,
  "metadata": {
    "colab": {
      "name": "Finance.ipynb",
      "provenance": [],
      "collapsed_sections": [],
      "authorship_tag": "ABX9TyPN3Y7YHKmLw9jsqfz9ikQ2",
      "include_colab_link": true
    },
    "kernelspec": {
      "name": "python3",
      "display_name": "Python 3"
    }
  },
  "cells": [
    {
      "cell_type": "markdown",
      "metadata": {
        "id": "view-in-github",
        "colab_type": "text"
      },
      "source": [
        "<a href=\"https://colab.research.google.com/github/takyaC/FinanceEaringsDate/blob/main/Finance.ipynb\" target=\"_parent\"><img src=\"https://colab.research.google.com/assets/colab-badge.svg\" alt=\"Open In Colab\"/></a>"
      ]
    },
    {
      "cell_type": "code",
      "metadata": {
        "colab": {
          "base_uri": "https://localhost:8080/"
        },
        "id": "k7-v_f-3Zfj_",
        "outputId": "0a542010-4c31-49a5-bda6-1e3d0eeabe2b"
      },
      "source": [
        "pip install yahoo_earnings_calendar"
      ],
      "execution_count": null,
      "outputs": [
        {
          "output_type": "stream",
          "text": [
            "Collecting yahoo_earnings_calendar\n",
            "  Downloading https://files.pythonhosted.org/packages/8e/c5/56a980977341b9166284007b2d2f81b6cbdfb643aec71e46994c6d014bf1/yahoo_earnings_calendar-0.6.0-py3-none-any.whl\n",
            "Requirement already satisfied: requests in /usr/local/lib/python3.6/dist-packages (from yahoo_earnings_calendar) (2.23.0)\n",
            "Requirement already satisfied: certifi>=2017.4.17 in /usr/local/lib/python3.6/dist-packages (from requests->yahoo_earnings_calendar) (2020.12.5)\n",
            "Requirement already satisfied: chardet<4,>=3.0.2 in /usr/local/lib/python3.6/dist-packages (from requests->yahoo_earnings_calendar) (3.0.4)\n",
            "Requirement already satisfied: urllib3!=1.25.0,!=1.25.1,<1.26,>=1.21.1 in /usr/local/lib/python3.6/dist-packages (from requests->yahoo_earnings_calendar) (1.25.11)\n",
            "Requirement already satisfied: idna<3,>=2.5 in /usr/local/lib/python3.6/dist-packages (from requests->yahoo_earnings_calendar) (2.10)\n",
            "Installing collected packages: yahoo-earnings-calendar\n",
            "Successfully installed yahoo-earnings-calendar-0.6.0\n"
          ],
          "name": "stdout"
        }
      ]
    },
    {
      "cell_type": "code",
      "metadata": {
        "id": "70kU4ITYZ5L4"
      },
      "source": [
        "from datetime import datetime\n",
        "from yahoo_earnings_calendar import YahooEarningsCalendar"
      ],
      "execution_count": null,
      "outputs": []
    },
    {
      "cell_type": "code",
      "metadata": {
        "id": "-r6FL3dBZYPy"
      },
      "source": [
        "tickers = [\"ZM\", \"WORK\", \"AAPL\", \"MSFT\", \"TSLA\", \"AMZN\", \"GOOGL\", \"ORCL\", \"MRNA\", \"EBS\", \"BNTX\", \"PLUG\",\n",
        "           \"WKHS\", \"DAL\", \"U\", \"RPRX\", \"DOCU\", \"PTON\", \"CRWD\", \"RKT\", \"ZI\"]"
      ],
      "execution_count": 56,
      "outputs": []
    },
    {
      "cell_type": "code",
      "metadata": {
        "colab": {
          "base_uri": "https://localhost:8080/"
        },
        "id": "DwjRFk9NdAkJ",
        "outputId": "76f01a71-b63b-416f-ff27-81b6efc217f7"
      },
      "source": [
        "data_of_ticker = []\n",
        "yec = YahooEarningsCalendar()\n",
        "\n",
        "for ticker in tickers:\n",
        "\n",
        "    ############ yahoo_earnings_calendar ############\n",
        "    ts = yec.get_next_earnings_date(ticker)\n",
        "    print(ticker, \",\", datetime.utcfromtimestamp(ts).strftime('%Y/%m/%d'))\n"
      ],
      "execution_count": 58,
      "outputs": [
        {
          "output_type": "stream",
          "text": [
            "ZM , 2021/03/05\n",
            "WORK , 2021/03/10\n",
            "AAPL , 2021/01/26\n",
            "MSFT , 2021/01/27\n",
            "TSLA , 2021/01/27\n",
            "AMZN , 2021/01/28\n",
            "GOOGL , 2021/02/01\n",
            "ORCL , 2021/03/10\n",
            "MRNA , 2021/02/24\n",
            "EBS , 2021/02/18\n",
            "BNTX , 2020/11/10\n",
            "PLUG , 2021/03/03\n",
            "WKHS , 2020/11/09\n",
            "DAL , 2021/01/12\n",
            "U , 2020/11/12\n",
            "RPRX , 2020/11/11\n",
            "DOCU , 2021/03/10\n",
            "PTON , 2021/02/03\n",
            "CRWD , 2021/03/17\n",
            "RKT , 2020/11/10\n",
            "ZI , 2020/11/09\n"
          ],
          "name": "stdout"
        }
      ]
    }
  ]
}